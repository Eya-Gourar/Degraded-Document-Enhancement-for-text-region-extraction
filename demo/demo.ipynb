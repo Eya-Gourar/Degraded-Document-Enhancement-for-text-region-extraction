{
  "cells": [
    {
      "cell_type": "code",
      "execution_count": null,
      "metadata": {
        "id": "g2Mn2wW-UNZV"
      },
      "outputs": [],
      "source": [
        "#!pip install gradio\n",
        "import sys \n",
        "import os\n",
        "sys.path.append(os.path.abspath(\"/home/eya/Desktop/BI/\"))\n",
        "\n",
        "import gradio as gr\n",
        "\n",
        "from Binarization.Otsu import otsu\n",
        "from Binarization.integralImages import II\n",
        "from Binarization.TransformerEnhancer.EnTr import Enhancer\n",
        "from Binarization.DEGAN.binarize import GAN_binarize"
      ]
    },
    {
      "cell_type": "code",
      "execution_count": 2,
      "metadata": {},
      "outputs": [],
      "source": [
        "def choose_goose(task_name, img) :\n",
        "    if task_name == \"Transformer Enhancer\" :\n",
        "        return Enhancer()\n",
        "    elif task_name == \"Integral Images\" :\n",
        "        return II()\n",
        "    elif task_name == \"Otsu\" :\n",
        "        return otsu()\n",
        "    elif task_name == \"Contrast Enhancement\" :\n",
        "        return None \n",
        "    elif task_name == \"GAN Binarizer\":\n",
        "        return GAN_binarize()"
      ]
    },
    {
      "cell_type": "code",
      "execution_count": 3,
      "metadata": {
        "colab": {
          "base_uri": "https://localhost:8080/",
          "height": 616
        },
        "id": "f7RoSOEXUa6i",
        "outputId": "6d837978-ab88-4494-b1b9-d10b50c4d543"
      },
      "outputs": [
        {
          "name": "stdout",
          "output_type": "stream",
          "text": [
            "Running on local URL:  http://127.0.0.1:7860\n",
            "\n",
            "To create a public link, set `share=True` in `launch()`.\n"
          ]
        },
        {
          "data": {
            "text/html": [
              "<div><iframe src=\"http://127.0.0.1:7860/\" width=\"100%\" height=\"500\" allow=\"autoplay; camera; microphone; clipboard-read; clipboard-write;\" frameborder=\"0\" allowfullscreen></iframe></div>"
            ],
            "text/plain": [
              "<IPython.core.display.HTML object>"
            ]
          },
          "metadata": {},
          "output_type": "display_data"
        },
        {
          "data": {
            "text/plain": []
          },
          "execution_count": 3,
          "metadata": {},
          "output_type": "execute_result"
        }
      ],
      "source": [
        "demo = gr.Interface(\n",
        "    fn=choose_goose,\n",
        "    inputs = [ gr.Dropdown([\"Transformer Enhancer\", \"Integral Images\", \"Otsu\", \"Enhancer GAN\", \"Contrast Enhancement\"]),\n",
        "    \"image\"],\n",
        "    outputs = \"image\",\n",
        "    title=\"your results\",\n",
        ")\n",
        "demo.launch()"
      ]
    }
  ],
  "metadata": {
    "accelerator": "GPU",
    "colab": {
      "provenance": []
    },
    "gpuClass": "standard",
    "kernelspec": {
      "display_name": "Python 3.8.10 ('latis-env')",
      "language": "python",
      "name": "python3"
    },
    "language_info": {
      "codemirror_mode": {
        "name": "ipython",
        "version": 3
      },
      "file_extension": ".py",
      "mimetype": "text/x-python",
      "name": "python",
      "nbconvert_exporter": "python",
      "pygments_lexer": "ipython3",
      "version": "3.8.10"
    },
    "vscode": {
      "interpreter": {
        "hash": "abab90b2e532b68832b0be72afc007d68c2062e131e17ba8924544f6395962ca"
      }
    }
  },
  "nbformat": 4,
  "nbformat_minor": 0
}
