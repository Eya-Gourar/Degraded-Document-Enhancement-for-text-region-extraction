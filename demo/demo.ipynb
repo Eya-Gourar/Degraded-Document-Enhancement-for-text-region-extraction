{
  "cells": [
    {
      "cell_type": "code",
      "execution_count": null,
      "metadata": {
        "id": "g2Mn2wW-UNZV"
      },
      "outputs": [],
      "source": [
        "#!pip install gradio\n",
        "import gradio as gr\n",
        "from Binarization.Otsu import otsu\n",
        "from Binarization.integralImages import II\n",
        "from Binarization.TransformerEnhancer.EnTR import Enhancer"
      ]
    },
    {
      "cell_type": "markdown",
      "metadata": {},
      "source": [
        "## Uncomment the method you prefer to use"
      ]
    },
    {
      "cell_type": "code",
      "execution_count": null,
      "metadata": {
        "colab": {
          "base_uri": "https://localhost:8080/",
          "height": 616
        },
        "id": "f7RoSOEXUa6i",
        "outputId": "6d837978-ab88-4494-b1b9-d10b50c4d543"
      },
      "outputs": [],
      "source": [
        "#task_name = \"Integral Images \"\n",
        "task_name = \"Transformer Enhancer\"\n",
        "#task_name = \"Otsu\"\n",
        "#task_name = \"Contrast Enhancement\"\n",
        "\n",
        "demo = gr.Interface(\n",
        "    fn=Enhancer if task_name ==\"Transformer Enhancer \" else II,\n",
        "    inputs=\"image\",\n",
        "    outputs=\"image\",\n",
        "    title=f\"`{task_name}`demonstration for Binarization task\",\n",
        ")\n",
        "demo.launch()"
      ]
    }
  ],
  "metadata": {
    "accelerator": "GPU",
    "colab": {
      "provenance": []
    },
    "gpuClass": "standard",
    "kernelspec": {
      "display_name": "Python 3.8.10 ('latis-env')",
      "language": "python",
      "name": "python3"
    },
    "language_info": {
      "codemirror_mode": {
        "name": "ipython",
        "version": 3
      },
      "file_extension": ".py",
      "mimetype": "text/x-python",
      "name": "python",
      "nbconvert_exporter": "python",
      "pygments_lexer": "ipython3",
      "version": "3.8.10"
    },
    "vscode": {
      "interpreter": {
        "hash": "abab90b2e532b68832b0be72afc007d68c2062e131e17ba8924544f6395962ca"
      }
    }
  },
  "nbformat": 4,
  "nbformat_minor": 0
}
