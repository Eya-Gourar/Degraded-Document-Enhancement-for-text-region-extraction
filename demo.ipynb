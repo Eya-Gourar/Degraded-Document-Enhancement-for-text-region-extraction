{
  "cells": [
    {
      "cell_type": "code",
      "execution_count": null,
      "metadata": {
        "id": "g2Mn2wW-UNZV"
      },
      "outputs": [],
      "source": [
        "#!pip install gradio\n",
        "import sys \n",
        "import os\n",
        "from IPython.display import clear_output\n",
        "import gradio as gr\n",
        "from Binarization.Otsu import otsu\n",
        "from Binarization.integralImages import II\n",
        "from Binarization.TransformerEnhancer.EnTr import Enhancer\n",
        "from Binarization.DEGAN.binarize import GAN_binarize\n",
        "clear_output(wait=True)"
      ]
    },
    {
      "cell_type": "code",
      "execution_count": null,
      "metadata": {},
      "outputs": [],
      "source": [
        "def choose_goose(task_name, img) :\n",
        "    if task_name == \"Transformer Enhancer\" :\n",
        "        return Enhancer(img)\n",
        "    elif task_name == \"Integral Images\" :\n",
        "        return II(img)\n",
        "    elif task_name == \"Otsu\" :\n",
        "        return otsu(img)\n",
        "    elif task_name == \"Contrast Enhancement\" :\n",
        "        return None \n",
        "    elif task_name == \"GAN Binarizer\":\n",
        "        return GAN_binarize(img)"
      ]
    },
    {
      "cell_type": "code",
      "execution_count": null,
      "metadata": {
        "colab": {
          "base_uri": "https://localhost:8080/",
          "height": 616
        },
        "id": "f7RoSOEXUa6i",
        "outputId": "6d837978-ab88-4494-b1b9-d10b50c4d543"
      },
      "outputs": [],
      "source": [
        "demo = gr.Interface(\n",
        "    fn=choose_goose,\n",
        "    inputs = [ gr.Dropdown([\"Transformer Enhancer\", \"Integral Images\", \"Otsu\", \"GAN Binarizer\", \"Contrast Enhancement\"]),\n",
        "    \"image\"],\n",
        "    outputs = \"image\",\n",
        "    title=\"your results\",\n",
        ")\n",
        "demo.launch()"
      ]
    }
  ],
  "metadata": {
    "accelerator": "GPU",
    "colab": {
      "provenance": []
    },
    "gpuClass": "standard",
    "kernelspec": {
      "display_name": "Python 3.8.10 ('latis-env')",
      "language": "python",
      "name": "python3"
    },
    "language_info": {
      "codemirror_mode": {
        "name": "ipython",
        "version": 3
      },
      "file_extension": ".py",
      "mimetype": "text/x-python",
      "name": "python",
      "nbconvert_exporter": "python",
      "pygments_lexer": "ipython3",
      "version": "3.8.10"
    },
    "vscode": {
      "interpreter": {
        "hash": "abab90b2e532b68832b0be72afc007d68c2062e131e17ba8924544f6395962ca"
      }
    }
  },
  "nbformat": 4,
  "nbformat_minor": 0
}
